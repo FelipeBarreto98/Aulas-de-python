{
  "nbformat": 4,
  "nbformat_minor": 0,
  "metadata": {
    "kernelspec": {
      "display_name": "Python 3",
      "language": "python",
      "name": "python3"
    },
    "language_info": {
      "codemirror_mode": {
        "name": "ipython",
        "version": 3
      },
      "file_extension": ".py",
      "mimetype": "text/x-python",
      "name": "python",
      "nbconvert_exporter": "python",
      "pygments_lexer": "ipython3",
      "version": "3.6.4"
    },
    "colab": {
      "name": "aula3_funcoes.ipynb",
      "provenance": [],
      "include_colab_link": true
    }
  },
  "cells": [
    {
      "cell_type": "markdown",
      "metadata": {
        "id": "view-in-github",
        "colab_type": "text"
      },
      "source": [
        "<a href=\"https://colab.research.google.com/github/FelipeBarreto98/Aulas-de-python/blob/main/aula3_funcoes.ipynb\" target=\"_parent\"><img src=\"https://colab.research.google.com/assets/colab-badge.svg\" alt=\"Open In Colab\"/></a>"
      ]
    },
    {
      "cell_type": "markdown",
      "metadata": {
        "id": "pwg7grL_1QAX"
      },
      "source": [
        "# AVISO\n",
        "\n",
        "Essa aula é toda baseada no livro \"Think Python\". \n",
        "\n",
        "A versão em português do livro está disponível nesse link: https://penseallen.github.io/PensePython2e/"
      ]
    },
    {
      "cell_type": "markdown",
      "metadata": {
        "id": "mLdU4EFy1QAa"
      },
      "source": [
        "# Funções"
      ]
    },
    {
      "cell_type": "markdown",
      "metadata": {
        "id": "HlUBtJ661QAe"
      },
      "source": [
        "Em programação, uma **função é uma sequência de declarações**, à qual atribuímos um nome, que realiza uma tarefa.\n",
        "\n",
        "Ao criar uma função, deve-se especificar o nome da função e a sequência de declarações.\n",
        "\n",
        "## Chamada de funções\n",
        "Já vimos pelo menos um exemplo de chamada de função:"
      ]
    },
    {
      "cell_type": "code",
      "metadata": {
        "id": "HhR2W5tH1QAh"
      },
      "source": [
        "type(40)"
      ],
      "execution_count": null,
      "outputs": []
    },
    {
      "cell_type": "markdown",
      "metadata": {
        "id": "fU53FlDA1QA4"
      },
      "source": [
        "* **nome** da função: *type*\n",
        "* **argumento**: 40\n",
        "* **valor de retorno** da função: é o resultado que a função retorna. Nesse exemplo, a função de nome *type*, retorna o tipo do *argumento* passado na função."
      ]
    },
    {
      "cell_type": "markdown",
      "metadata": {
        "id": "mDK2ARCC1QA6"
      },
      "source": [
        "## Funções de conversão de tipo\n",
        "O Python fornece funções internas (*built-in*) que convertem valores de um tipo para outro ==> **casting**. \n",
        "A função *int* recebe qualquer valor e o converte em um inteiro, se puder:"
      ]
    },
    {
      "cell_type": "code",
      "metadata": {
        "id": "-B_1Qjp61QA8"
      },
      "source": [
        "int(2.8)"
      ],
      "execution_count": null,
      "outputs": []
    },
    {
      "cell_type": "markdown",
      "metadata": {
        "id": "ZGfKybYY1QBD"
      },
      "source": [
        "ou reclama quando não é possível fazer a conversão:"
      ]
    },
    {
      "cell_type": "code",
      "metadata": {
        "id": "mKIa4eSZ1QBF"
      },
      "source": [
        "int('Oi')"
      ],
      "execution_count": null,
      "outputs": []
    },
    {
      "cell_type": "markdown",
      "metadata": {
        "id": "MHzcwLue1QBM"
      },
      "source": [
        "A função *float* converte inteiros e strings em *floats*:"
      ]
    },
    {
      "cell_type": "code",
      "metadata": {
        "id": "HXHGdTKS1QBM"
      },
      "source": [
        "float(32)"
      ],
      "execution_count": null,
      "outputs": []
    },
    {
      "cell_type": "code",
      "metadata": {
        "id": "DohGLVAN1QBT"
      },
      "source": [
        "float('3.14159')"
      ],
      "execution_count": null,
      "outputs": []
    },
    {
      "cell_type": "markdown",
      "metadata": {
        "id": "zb2XGEGV1QBa"
      },
      "source": [
        "A função *str* converte seu argumento em *strings*:"
      ]
    },
    {
      "cell_type": "code",
      "metadata": {
        "id": "xjNfzXpx1QBb"
      },
      "source": [
        "str(32)"
      ],
      "execution_count": null,
      "outputs": []
    },
    {
      "cell_type": "code",
      "metadata": {
        "id": "YtLFg9Eo1QBg"
      },
      "source": [
        "str(3.14159)"
      ],
      "execution_count": null,
      "outputs": []
    },
    {
      "cell_type": "markdown",
      "metadata": {
        "id": "6QsSxOS21QBk"
      },
      "source": [
        "## Funções matemáticas"
      ]
    },
    {
      "cell_type": "markdown",
      "metadata": {
        "id": "YkHesDWl1QBl"
      },
      "source": [
        "O Python possui um **módulo matemático** que fornece a maioria das funções matemáticas familiares. \n",
        "\n",
        "Um **módulo** de python é um arquivo que contém uma coleção de funções relacionadas.\n",
        "\n",
        "Antes de poder usar um certo módulo, temos que ***importá-lo***:"
      ]
    },
    {
      "cell_type": "code",
      "metadata": {
        "id": "Q4IuIinn1QBm"
      },
      "source": [
        "import math"
      ],
      "execution_count": null,
      "outputs": []
    },
    {
      "cell_type": "markdown",
      "metadata": {
        "id": "VFzSYW3Q1QBr"
      },
      "source": [
        "A declaração acima **cria um objeto de módulo** chamado **math**.\n",
        "\n",
        "Você pode imprimir o objeto de módulo:"
      ]
    },
    {
      "cell_type": "code",
      "metadata": {
        "id": "P7qIO1Fo1QBs"
      },
      "source": [
        "print(math)"
      ],
      "execution_count": null,
      "outputs": []
    },
    {
      "cell_type": "markdown",
      "metadata": {
        "id": "B6mCKwrq1QBx"
      },
      "source": [
        "O objeto do módulo contém as funções e variáveis definidas no módulo. \n",
        "\n",
        "Para acessar uma das funções do módulo usamos a seguinte expressão:\n",
        "\n",
        "* *nome_do_objeto_do_modulo**.**nome_da_funcao*\n",
        "\n",
        "\n",
        "Esse formato é chamado de **notação de ponto**."
      ]
    },
    {
      "cell_type": "code",
      "metadata": {
        "id": "KQuTc56J1QBx"
      },
      "source": [
        "import math\n",
        "cateto_oposto = 4\n",
        "cateto_adjacente = 2\n",
        "tg_theta = cateto_oposto/cateto_adjacente\n",
        "theta = math.atan(tg_theta)\n",
        "print(theta, 'em radianos')"
      ],
      "execution_count": null,
      "outputs": []
    },
    {
      "cell_type": "markdown",
      "metadata": {
        "id": "8_u13RST1QB1"
      },
      "source": [
        "As funções trigonométricas pegam os argumentos em radianos.\n",
        "\n",
        "Podemos converter de radianos para graus com uma função do objeto de módulo:"
      ]
    },
    {
      "cell_type": "code",
      "metadata": {
        "id": "aGEWEuvk1QB3"
      },
      "source": [
        "math.degrees(theta)"
      ],
      "execution_count": null,
      "outputs": []
    },
    {
      "cell_type": "markdown",
      "metadata": {
        "id": "eWa85ov41QB7"
      },
      "source": [
        "Ou:"
      ]
    },
    {
      "cell_type": "code",
      "metadata": {
        "id": "vb5XyQGs1QB7"
      },
      "source": [
        "theta_graus = theta*180/math.pi\n",
        "print(theta_graus)"
      ],
      "execution_count": null,
      "outputs": []
    },
    {
      "cell_type": "markdown",
      "metadata": {
        "id": "IZEpn9H71QCA"
      },
      "source": [
        "Acessamos o valor de $\\pi$ determinado no módulo matemático através da variável math.pi. O valor dessa variável é uma aproximação de π, com precisão de cerca de 15 dígitos."
      ]
    },
    {
      "cell_type": "markdown",
      "metadata": {
        "id": "aQ6v8Xmh1QCA"
      },
      "source": [
        "**Exercício:** Quantos graus tem o ângulo $\\theta$ correspondente a $cos\\theta = \\sqrt2/2$ ?"
      ]
    },
    {
      "cell_type": "code",
      "metadata": {
        "id": "6WG3jCgl1QCB"
      },
      "source": [
        "math.degrees(math.acos(math.sqrt(2)/2))"
      ],
      "execution_count": null,
      "outputs": []
    },
    {
      "cell_type": "markdown",
      "metadata": {
        "id": "21R0vYBn1QCG"
      },
      "source": [
        "## Composição\n",
        "\n",
        "Até agora, analisamos os elementos de um programa - variáveis, expressões e declarações - isoladamente, sem falar sobre como combiná-los.\n",
        "\n",
        "Um dos recursos mais úteis das linguagens de programação é a capacidade de usar blocos de construção pequenos e **compô-los**. \n",
        "\n",
        "Por exemplo, ***o argumento de uma função pode ser qualquer tipo de expressão***, incluindo operadores aritméticos:"
      ]
    },
    {
      "cell_type": "code",
      "metadata": {
        "id": "eZt4ODl81QCG"
      },
      "source": [
        "x = math.sin((theta_graus/360.0) * 2 * math.pi)\n",
        "print(x)"
      ],
      "execution_count": null,
      "outputs": []
    },
    {
      "cell_type": "markdown",
      "metadata": {
        "id": "dT-kDloC1QCL"
      },
      "source": [
        "E até mesmo chamadas de função:"
      ]
    },
    {
      "cell_type": "code",
      "metadata": {
        "id": "LSpJCZYa1QCM"
      },
      "source": [
        "x2 = math.sin(math.radians(theta_graus))\n",
        "print(x2)"
      ],
      "execution_count": null,
      "outputs": []
    },
    {
      "cell_type": "markdown",
      "metadata": {
        "id": "kHnjlfxC1QCP"
      },
      "source": [
        "* **Em quase todo lugar onde é possível usar um valor, também é possível usar uma expressão arbitrária**\n",
        "* Porém, o lado esquerdo de uma **declaração de atribuição** deve ser sempre um ***nome de variável***. "
      ]
    },
    {
      "cell_type": "code",
      "metadata": {
        "id": "Rvisg2GJ1QCQ"
      },
      "source": [
        "horas = 2\n",
        "minutos = horas * 60"
      ],
      "execution_count": null,
      "outputs": []
    },
    {
      "cell_type": "code",
      "metadata": {
        "id": "abEXT41C1QCT"
      },
      "source": [
        "horas * 60 = minutos "
      ],
      "execution_count": null,
      "outputs": []
    },
    {
      "cell_type": "markdown",
      "metadata": {
        "id": "GgzIdBUC1QCX"
      },
      "source": [
        "## Adicionando novas funções\n",
        "\n",
        "* Até agora, só usamos as funções do Python, mas também é possível adicionar novas funções. \n",
        "* Para definir uma função, é necessário:\n",
        "   * determinar o nome da função \n",
        "   * determinar a sequência de instruções a serem executadas quando a função é chamada.\n",
        "\n",
        "A sintaxe para a definição de uma função é:"
      ]
    },
    {
      "cell_type": "code",
      "metadata": {
        "id": "YcNtfvb41QCY"
      },
      "source": [
        "def nome_da_funcao(argumentos_da_funcao):   #cabeçário (header) da função\n",
        "    declaracao = 'esse é o CORPO da função. É onde são feitas as declarações da função'  # as declarações da funções devem ser INDENTADAS."
      ],
      "execution_count": null,
      "outputs": []
    },
    {
      "cell_type": "markdown",
      "metadata": {
        "id": "Du2f83Qm1QCb"
      },
      "source": [
        "Um exemplo de função:"
      ]
    },
    {
      "cell_type": "code",
      "metadata": {
        "id": "N6Y4EIhT1QCd"
      },
      "source": [
        "def print_poema():\n",
        "    print('Caminante, no hay camino,')\n",
        "    print('se hace camino al andar.')"
      ],
      "execution_count": null,
      "outputs": []
    },
    {
      "cell_type": "markdown",
      "metadata": {
        "id": "sElRdIgU1QCg"
      },
      "source": [
        "Ao definir uma função, se cria uma variável com o mesmo nome."
      ]
    },
    {
      "cell_type": "code",
      "metadata": {
        "id": "MCykAjJg1QCg"
      },
      "source": [
        "print(print_poema)"
      ],
      "execution_count": null,
      "outputs": []
    },
    {
      "cell_type": "code",
      "metadata": {
        "id": "Dm9uEFR51QCl"
      },
      "source": [
        "type(print_poema)"
      ],
      "execution_count": null,
      "outputs": []
    },
    {
      "cell_type": "markdown",
      "metadata": {
        "id": "0W3Nn6Q-1QCo"
      },
      "source": [
        "O valor de print_poema é um **objeto de função**, que possui o ***tipo*** 'function'.\n",
        "\n",
        "A sintaxe para chamar a nova função é a mesma das funções integradas (built-in):"
      ]
    },
    {
      "cell_type": "code",
      "metadata": {
        "id": "WBBbS-ov1QCp"
      },
      "source": [
        "print_poema()"
      ],
      "execution_count": null,
      "outputs": []
    },
    {
      "cell_type": "markdown",
      "metadata": {
        "id": "AuwQKBc91QCt"
      },
      "source": [
        "Uma vez definida a função, podemos usá-la dentro de outra função:"
      ]
    },
    {
      "cell_type": "code",
      "metadata": {
        "id": "eOFu6mFD1QCt"
      },
      "source": [
        "def verso_poema():\n",
        "    print('Caminante, son tus huellas')\n",
        "    print('el camino y nada más;')\n",
        "    \n",
        "    print_poema()\n",
        "    \n",
        "    print('Al andar se hace el camino,')\n",
        "    print('y al volver la vista atrás,')\n",
        "    print('se ve la senda que nunca')\n",
        "    print('se ha de volver a pisar.')\n",
        "    print('Caminante no hay camino')\n",
        "    print('sino estelas en la mar.')"
      ],
      "execution_count": null,
      "outputs": []
    },
    {
      "cell_type": "markdown",
      "metadata": {
        "id": "0sDYw-NV1QCw"
      },
      "source": [
        "E chamá-la:"
      ]
    },
    {
      "cell_type": "code",
      "metadata": {
        "id": "bbW8FkNX1QCw"
      },
      "source": [
        "verso_poema()"
      ],
      "execution_count": null,
      "outputs": []
    },
    {
      "cell_type": "markdown",
      "metadata": {
        "id": "RG7Ibl4j1QCz"
      },
      "source": [
        "## Definições e usos\n",
        "\n",
        "Até agora, definimos duas funções e as chamamos. \n",
        "Ao colocarmos as funções e chamada em um programa, temos:"
      ]
    },
    {
      "cell_type": "code",
      "metadata": {
        "id": "0ZHgmqH-1QC1"
      },
      "source": [
        "def print_poema():\n",
        "    print('Caminante, no hay camino,')\n",
        "    print('se hace camino al andar.')\n",
        "    \n",
        "def verso_poema():\n",
        "    print('Caminante, son tus huellas')\n",
        "    print('el camino y nada más;')\n",
        "    \n",
        "    print_poema()\n",
        "    \n",
        "    print('Al andar se hace el camino,')\n",
        "    print('y al volver la vista atrás,')\n",
        "    print('se ve la senda que nunca')\n",
        "    print('se ha de volver a pisar.')\n",
        "    print('Caminante no hay camino')\n",
        "    print('sino estelas en la mar.')\n",
        "\n",
        "verso_poema()"
      ],
      "execution_count": null,
      "outputs": []
    },
    {
      "cell_type": "markdown",
      "metadata": {
        "id": "-cd69H651QC3"
      },
      "source": [
        "***Este programa contém duas definições de função: print_poema e verso_poema.*** \n",
        "\n",
        "* As definições de função são executadas exatamente como outras instruções, mas o efeito é criar ***objetos de função***. \n",
        "* As instruções dentro da função só são executadas quando a função é chamada.\n",
        "* Somente a definição (sem a chamada) da função não gera saída.\n",
        "\n",
        "\n",
        "\n",
        "* A função deve ser definida **antes** de poder ser executada. "
      ]
    },
    {
      "cell_type": "markdown",
      "metadata": {
        "id": "kAzo_U0J1QC4"
      },
      "source": [
        "## Exercícios:\n",
        "1. Crie uma funcão que tome um argumento e imprima o valor e o tipo dele.\n",
        "1. Crie uma função que calcule e imprima velocidade media de um objeto a partir de uma posição inicial, a final e o tempo transcorrido para um objeto em MRU. Também crie uma funcão que calcule e imprima a velocidade de um objeto a partir da aceleração constante e o tempo (MRUA) (p.ex. queda libre).\n",
        "1. Crie uma funcão para calcular o ángulo zenital do sol (da semana passada) tomando como argumento as medidas da altura e o comprimento da sombra.\n",
        "1. Crie uma função que faça a conversão de uma medida inicialmente em milhas para m, e outra para o inverso; uma de horas para segundos, e o inverso. Utilize estas funções para resolver novamente o primeiro exercício da semana passada (da corrida). Se uma pessoa demora 30 minutos em 4 milhas, qual velocidade media em km/h ? e o tempo medio por kilometro?\n",
        "1. Crie funções para calcular os outros exemplos das aulas anteriores: IMC, volume de uma esfera, distancia entre pontos de máximos de difração. Decida quais serão os argumentos e o valor retornado.\n"
      ]
    },
    {
      "cell_type": "code",
      "metadata": {
        "id": "Pr8eAZM54OIw"
      },
      "source": [
        "def print_x(x):\n",
        "    print(x)"
      ],
      "execution_count": 10,
      "outputs": []
    }
  ]
}